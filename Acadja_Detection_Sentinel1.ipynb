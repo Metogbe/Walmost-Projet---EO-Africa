{
 "cells": [
  {
   "cell_type": "markdown",
   "metadata": {
    "tags": []
   },
   "source": [
    "# 0. Steps<a name=\"major steps\"></a>\n",
    "<b> Detection of Acadja installations in Nokoue lake, Benin using Sentinel 1 data </b>\n",
    "* Data used: The Sentinel-1 mission provides data from a dual-polarization C-band Synthetic Aperture Radar (SAR) instrument at 5.405GHz (C band). In this study, we used the S1 Ground Range Detected (GRD) scenes, processed using the Sentinel-1 Toolbox to generate a calibrated, ortho-corrected product. The scenes available as image collection in GEE is used.  \n",
    "* Selection of polarisation used: The backscatter coefficient in dB in the Vertical Transmit and Horizontal receive (VH) mode is used. The VV mode has a striping due to tiling effect within the lake, hence could not use. VV modes tend to pick up height/vertical features where VH modes tend to be more sensitive to surface textures. Hence for the Acadja detection VH mode could be more suitable based on the variation in texture over water body due to the wood installations.\n",
    "* Method: Thresholding based on VH mode data was implemented. The analysis of S1 VH data over the year 2022 showed a clear pattern of acadja's within the lake. Median of all the VH mode data over 2022 was computed and applied a minimum and maximum thresholds of -24.5 and -22 respectively. The final binary map is displayed in the interactive map below."
   ]
  },
  {
   "cell_type": "markdown",
   "metadata": {},
   "source": [
    "# 1. Installation of required library<a name=\"install\"></a>\n",
    "You need to have geemap python library installed in your computer. <br>\n",
    "If you are using conda environment then use the below command to install geemap. <br>\n",
    "<b>This is one time step.</b>"
   ]
  },
  {
   "cell_type": "code",
   "execution_count": 1,
   "metadata": {},
   "outputs": [],
   "source": [
    "#conda install -c conda-forge geemap"
   ]
  },
  {
   "cell_type": "markdown",
   "metadata": {},
   "source": [
    "<b>OR</b> use pip to install the geemap package as given below"
   ]
  },
  {
   "cell_type": "code",
   "execution_count": 2,
   "metadata": {},
   "outputs": [],
   "source": [
    "#!pip install --upgrade geemap"
   ]
  },
  {
   "cell_type": "code",
   "execution_count": 3,
   "metadata": {},
   "outputs": [],
   "source": [
    "#!conda install -c conda-forge geopandas"
   ]
  },
  {
   "cell_type": "code",
   "execution_count": 4,
   "metadata": {},
   "outputs": [],
   "source": [
    "#geemap.update_package()"
   ]
  },
  {
   "cell_type": "code",
   "execution_count": 5,
   "metadata": {},
   "outputs": [],
   "source": [
    "#!conda activate base"
   ]
  },
  {
   "cell_type": "markdown",
   "metadata": {},
   "source": [
    "# 2. Initializing the GEE<a name=\"initial\"></a>\n",
    "Let us start with geemap by importing the library and bringing in a interactive map."
   ]
  },
  {
   "cell_type": "code",
   "execution_count": 19,
   "metadata": {},
   "outputs": [],
   "source": [
    "import os\n",
    "import ee\n",
    "import geemap\n",
    "#import geopandas"
   ]
  },
  {
   "cell_type": "markdown",
   "metadata": {},
   "source": [
    "Now you will define a interactive map and get it inline in this notebook. <br>\n",
    "<b> Note that first time you do this step in your computer, it will ask for authorize the access needed by GEE. You have to follow the instructions and finish the authorization. This is only one time in local computer</b> <br>\n",
    "See this [youtube video](https://www.youtube.com/watch?v=h0pz3S6Tvx0&t=359s) showing the authorization steps."
   ]
  },
  {
   "cell_type": "markdown",
   "metadata": {},
   "source": [
    "Now that you have successfully initiated the geemap, let us explore data sets from GEE by importing them to this notebook."
   ]
  },
  {
   "cell_type": "markdown",
   "metadata": {},
   "source": [
    "# 3. Import data in GEE<a name=\"import\"></a>\n",
    "GEE offers access to petabytes of data from various data sources primarily from satellites and remote sensing.<br>\n",
    "You can check [this link](https://developers.google.com/earth-engine/datasets) for the data catalog of GEE.<br>\n",
    "For each type of data, the catalog gives you <b>\"Earthengine snippet\"</b> as shown below (only an example) which can be used to access this particular data. <br>"
   ]
  },
  {
   "cell_type": "code",
   "execution_count": 88,
   "metadata": {},
   "outputs": [],
   "source": [
    "s1 = ee.ImageCollection(\"COPERNICUS/S1_GRD\");\n",
    "lakes = ee.FeatureCollection(\"users/spareeth/Benin/Nokoue_NW\");\n",
    "fld_all = ee.FeatureCollection(\"users/spareeth/Benin/fieldata\");\n",
    "fld_ac = ee.FeatureCollection(\"users/spareeth/Benin/fieldata_acadja\");\n",
    "lake_bnd = ee.FeatureCollection(\"users/spareeth/Benin/lake_bnd\");"
   ]
  },
  {
   "cell_type": "code",
   "execution_count": 97,
   "metadata": {},
   "outputs": [],
   "source": [
    "lake = lakes.filter(\"name == 'nokoue'\")"
   ]
  },
  {
   "cell_type": "code",
   "execution_count": 132,
   "metadata": {},
   "outputs": [],
   "source": [
    "vh_2022_raw = ee.ImageCollection(\"COPERNICUS/S1_GRD\") \\\n",
    "            .filterBounds(lake_bnd) \\\n",
    "            .filter(ee.Filter.listContains('transmitterReceiverPolarisation', 'VH')) \\\n",
    "            .filter(ee.Filter.eq('instrumentMode', 'IW')) \\\n",
    "            .filterDate('2022-01-01', '2022-12-31') \\\n",
    "            .median() \\\n",
    "            .clip(lake);"
   ]
  },
  {
   "cell_type": "markdown",
   "metadata": {},
   "source": [
    "Compute Radar Vegetation Index (RVI) from sentinel 1 GRD data. Read about RVI [here](https://custom-scripts.sentinel-hub.com/custom-scripts/sentinel-1/radar_vegetation_index/).\n",
    "Note that this is not used for Acadja extraction due to striped effect."
   ]
  },
  {
   "cell_type": "code",
   "execution_count": 133,
   "metadata": {},
   "outputs": [],
   "source": [
    "rvi = vh_2022.expression(\n",
    "      '4 * VH / (VH + VV)', {\n",
    "      'VH': vh_2022.select('VH'),\n",
    "      'VV': vh_2022.select('VV')\n",
    "});"
   ]
  },
  {
   "cell_type": "code",
   "execution_count": 134,
   "metadata": {},
   "outputs": [],
   "source": [
    "VH = vh_2022.select('VH').clip(lake);"
   ]
  },
  {
   "cell_type": "code",
   "execution_count": 135,
   "metadata": {},
   "outputs": [],
   "source": [
    "acadja = VH.lt(-22).And(VH.gt(-24.5));"
   ]
  },
  {
   "cell_type": "code",
   "execution_count": 136,
   "metadata": {},
   "outputs": [
    {
     "data": {
      "application/vnd.jupyter.widget-view+json": {
       "model_id": "3f28c1a250ef4ec888b7becffcbb9dfc",
       "version_major": 2,
       "version_minor": 0
      },
      "text/plain": [
       "Map(center=[20, 0], controls=(WidgetControl(options=['position', 'transparent_bg'], widget=HBox(children=(Togg…"
      ]
     },
     "metadata": {},
     "output_type": "display_data"
    }
   ],
   "source": [
    "Map = geemap.Map(basemap=\"HYBRID\")\n",
    "Map"
   ]
  },
  {
   "cell_type": "code",
   "execution_count": 137,
   "metadata": {},
   "outputs": [],
   "source": [
    "Map.center_object(lake)"
   ]
  },
  {
   "cell_type": "code",
   "execution_count": 138,
   "metadata": {},
   "outputs": [],
   "source": [
    "Viz = {'min': -26, 'max': -18, 'palette': ['green', 'yellow', 'brown']}"
   ]
  },
  {
   "cell_type": "code",
   "execution_count": 139,
   "metadata": {},
   "outputs": [],
   "source": [
    "Map.addLayer(vh_2022.select('VH'), Viz, 'VH', 1);"
   ]
  },
  {
   "cell_type": "code",
   "execution_count": 140,
   "metadata": {},
   "outputs": [],
   "source": [
    "Map.addLayer(acadja.selfMask(), {}, 'Acadja');"
   ]
  },
  {
   "cell_type": "code",
   "execution_count": 141,
   "metadata": {},
   "outputs": [],
   "source": [
    "Map.addLayer(fld_ac, {}, 'field acadja', 1);"
   ]
  },
  {
   "cell_type": "code",
   "execution_count": null,
   "metadata": {},
   "outputs": [],
   "source": []
  }
 ],
 "metadata": {
  "kernelspec": {
   "display_name": "Python 3 (ipykernel)",
   "language": "python",
   "name": "python3"
  },
  "language_info": {
   "codemirror_mode": {
    "name": "ipython",
    "version": 3
   },
   "file_extension": ".py",
   "mimetype": "text/x-python",
   "name": "python",
   "nbconvert_exporter": "python",
   "pygments_lexer": "ipython3",
   "version": "3.11.3"
  }
 },
 "nbformat": 4,
 "nbformat_minor": 4
}
